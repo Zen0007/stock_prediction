{
  "cells": [
    {
      "cell_type": "markdown",
      "metadata": {
        "id": "view-in-github",
        "colab_type": "text"
      },
      "source": [
        "<a href=\"https://colab.research.google.com/github/Zen0007/study_documentation./blob/main/prediction_stock_market.ipynb\" target=\"_parent\"><img src=\"https://colab.research.google.com/assets/colab-badge.svg\" alt=\"Open In Colab\"/></a>"
      ]
    },
    {
      "cell_type": "code",
      "execution_count": null,
      "metadata": {
        "id": "7hYh7Ht6CAVd"
      },
      "outputs": [],
      "source": [
        "import yfinance as yf\n",
        "import math\n",
        "import numpy as np\n",
        "import pandas as pd\n",
        "from sklearn.preprocessing import MinMaxScaler\n",
        "from tensorflow.keras.layers import Dense, LSTM\n",
        "from tensorflow.keras.models import Sequential\n",
        "import matplotlib.pyplot as plt\n",
        "plt.style.use('fivethirtyeight')"
      ]
    },
    {
      "cell_type": "code",
      "execution_count": null,
      "metadata": {
        "id": "KNkhj8s5K0HI",
        "colab": {
          "base_uri": "https://localhost:8080/",
          "height": 473
        },
        "outputId": "236cd09b-1cff-4b30-d122-ac7b24e6b25d"
      },
      "outputs": [
        {
          "output_type": "stream",
          "name": "stdout",
          "text": [
            "\r[*********************100%***********************]  1 of 1 completed\n"
          ]
        },
        {
          "output_type": "execute_result",
          "data": {
            "text/plain": [
              "              Open    High     Low   Close    Adj Close     Volume\n",
              "Date                                                              \n",
              "2022-01-03  7325.0  7400.0  7300.0  7325.0  7045.549805   54287400\n",
              "2022-01-04  7325.0  7450.0  7325.0  7400.0  7117.688477   70624000\n",
              "2022-01-05  7450.0  7525.0  7375.0  7450.0  7165.780762   76164900\n",
              "2022-01-06  7500.0  7525.0  7425.0  7475.0  7189.827148   63657100\n",
              "2022-01-07  7550.0  7700.0  7500.0  7650.0  7358.150391  143433300\n",
              "...            ...     ...     ...     ...          ...        ...\n",
              "2023-05-09  8950.0  8975.0  8900.0  8925.0  8925.000000   40929600\n",
              "2023-05-10  8925.0  8950.0  8900.0  8925.0  8925.000000   45322600\n",
              "2023-05-11  8900.0  8900.0  8800.0  8825.0  8825.000000   81993900\n",
              "2023-05-12  8750.0  8875.0  8725.0  8800.0  8800.000000   96525600\n",
              "2023-05-15  8875.0  8875.0  8725.0  8775.0  8775.000000   64830300\n",
              "\n",
              "[332 rows x 6 columns]"
            ],
            "text/html": [
              "\n",
              "  <div id=\"df-400a7bf7-304e-4184-8de8-abba2b69d20f\">\n",
              "    <div class=\"colab-df-container\">\n",
              "      <div>\n",
              "<style scoped>\n",
              "    .dataframe tbody tr th:only-of-type {\n",
              "        vertical-align: middle;\n",
              "    }\n",
              "\n",
              "    .dataframe tbody tr th {\n",
              "        vertical-align: top;\n",
              "    }\n",
              "\n",
              "    .dataframe thead th {\n",
              "        text-align: right;\n",
              "    }\n",
              "</style>\n",
              "<table border=\"1\" class=\"dataframe\">\n",
              "  <thead>\n",
              "    <tr style=\"text-align: right;\">\n",
              "      <th></th>\n",
              "      <th>Open</th>\n",
              "      <th>High</th>\n",
              "      <th>Low</th>\n",
              "      <th>Close</th>\n",
              "      <th>Adj Close</th>\n",
              "      <th>Volume</th>\n",
              "    </tr>\n",
              "    <tr>\n",
              "      <th>Date</th>\n",
              "      <th></th>\n",
              "      <th></th>\n",
              "      <th></th>\n",
              "      <th></th>\n",
              "      <th></th>\n",
              "      <th></th>\n",
              "    </tr>\n",
              "  </thead>\n",
              "  <tbody>\n",
              "    <tr>\n",
              "      <th>2022-01-03</th>\n",
              "      <td>7325.0</td>\n",
              "      <td>7400.0</td>\n",
              "      <td>7300.0</td>\n",
              "      <td>7325.0</td>\n",
              "      <td>7045.549805</td>\n",
              "      <td>54287400</td>\n",
              "    </tr>\n",
              "    <tr>\n",
              "      <th>2022-01-04</th>\n",
              "      <td>7325.0</td>\n",
              "      <td>7450.0</td>\n",
              "      <td>7325.0</td>\n",
              "      <td>7400.0</td>\n",
              "      <td>7117.688477</td>\n",
              "      <td>70624000</td>\n",
              "    </tr>\n",
              "    <tr>\n",
              "      <th>2022-01-05</th>\n",
              "      <td>7450.0</td>\n",
              "      <td>7525.0</td>\n",
              "      <td>7375.0</td>\n",
              "      <td>7450.0</td>\n",
              "      <td>7165.780762</td>\n",
              "      <td>76164900</td>\n",
              "    </tr>\n",
              "    <tr>\n",
              "      <th>2022-01-06</th>\n",
              "      <td>7500.0</td>\n",
              "      <td>7525.0</td>\n",
              "      <td>7425.0</td>\n",
              "      <td>7475.0</td>\n",
              "      <td>7189.827148</td>\n",
              "      <td>63657100</td>\n",
              "    </tr>\n",
              "    <tr>\n",
              "      <th>2022-01-07</th>\n",
              "      <td>7550.0</td>\n",
              "      <td>7700.0</td>\n",
              "      <td>7500.0</td>\n",
              "      <td>7650.0</td>\n",
              "      <td>7358.150391</td>\n",
              "      <td>143433300</td>\n",
              "    </tr>\n",
              "    <tr>\n",
              "      <th>...</th>\n",
              "      <td>...</td>\n",
              "      <td>...</td>\n",
              "      <td>...</td>\n",
              "      <td>...</td>\n",
              "      <td>...</td>\n",
              "      <td>...</td>\n",
              "    </tr>\n",
              "    <tr>\n",
              "      <th>2023-05-09</th>\n",
              "      <td>8950.0</td>\n",
              "      <td>8975.0</td>\n",
              "      <td>8900.0</td>\n",
              "      <td>8925.0</td>\n",
              "      <td>8925.000000</td>\n",
              "      <td>40929600</td>\n",
              "    </tr>\n",
              "    <tr>\n",
              "      <th>2023-05-10</th>\n",
              "      <td>8925.0</td>\n",
              "      <td>8950.0</td>\n",
              "      <td>8900.0</td>\n",
              "      <td>8925.0</td>\n",
              "      <td>8925.000000</td>\n",
              "      <td>45322600</td>\n",
              "    </tr>\n",
              "    <tr>\n",
              "      <th>2023-05-11</th>\n",
              "      <td>8900.0</td>\n",
              "      <td>8900.0</td>\n",
              "      <td>8800.0</td>\n",
              "      <td>8825.0</td>\n",
              "      <td>8825.000000</td>\n",
              "      <td>81993900</td>\n",
              "    </tr>\n",
              "    <tr>\n",
              "      <th>2023-05-12</th>\n",
              "      <td>8750.0</td>\n",
              "      <td>8875.0</td>\n",
              "      <td>8725.0</td>\n",
              "      <td>8800.0</td>\n",
              "      <td>8800.000000</td>\n",
              "      <td>96525600</td>\n",
              "    </tr>\n",
              "    <tr>\n",
              "      <th>2023-05-15</th>\n",
              "      <td>8875.0</td>\n",
              "      <td>8875.0</td>\n",
              "      <td>8725.0</td>\n",
              "      <td>8775.0</td>\n",
              "      <td>8775.000000</td>\n",
              "      <td>64830300</td>\n",
              "    </tr>\n",
              "  </tbody>\n",
              "</table>\n",
              "<p>332 rows × 6 columns</p>\n",
              "</div>\n",
              "      <button class=\"colab-df-convert\" onclick=\"convertToInteractive('df-400a7bf7-304e-4184-8de8-abba2b69d20f')\"\n",
              "              title=\"Convert this dataframe to an interactive table.\"\n",
              "              style=\"display:none;\">\n",
              "        \n",
              "  <svg xmlns=\"http://www.w3.org/2000/svg\" height=\"24px\"viewBox=\"0 0 24 24\"\n",
              "       width=\"24px\">\n",
              "    <path d=\"M0 0h24v24H0V0z\" fill=\"none\"/>\n",
              "    <path d=\"M18.56 5.44l.94 2.06.94-2.06 2.06-.94-2.06-.94-.94-2.06-.94 2.06-2.06.94zm-11 1L8.5 8.5l.94-2.06 2.06-.94-2.06-.94L8.5 2.5l-.94 2.06-2.06.94zm10 10l.94 2.06.94-2.06 2.06-.94-2.06-.94-.94-2.06-.94 2.06-2.06.94z\"/><path d=\"M17.41 7.96l-1.37-1.37c-.4-.4-.92-.59-1.43-.59-.52 0-1.04.2-1.43.59L10.3 9.45l-7.72 7.72c-.78.78-.78 2.05 0 2.83L4 21.41c.39.39.9.59 1.41.59.51 0 1.02-.2 1.41-.59l7.78-7.78 2.81-2.81c.8-.78.8-2.07 0-2.86zM5.41 20L4 18.59l7.72-7.72 1.47 1.35L5.41 20z\"/>\n",
              "  </svg>\n",
              "      </button>\n",
              "      \n",
              "  <style>\n",
              "    .colab-df-container {\n",
              "      display:flex;\n",
              "      flex-wrap:wrap;\n",
              "      gap: 12px;\n",
              "    }\n",
              "\n",
              "    .colab-df-convert {\n",
              "      background-color: #E8F0FE;\n",
              "      border: none;\n",
              "      border-radius: 50%;\n",
              "      cursor: pointer;\n",
              "      display: none;\n",
              "      fill: #1967D2;\n",
              "      height: 32px;\n",
              "      padding: 0 0 0 0;\n",
              "      width: 32px;\n",
              "    }\n",
              "\n",
              "    .colab-df-convert:hover {\n",
              "      background-color: #E2EBFA;\n",
              "      box-shadow: 0px 1px 2px rgba(60, 64, 67, 0.3), 0px 1px 3px 1px rgba(60, 64, 67, 0.15);\n",
              "      fill: #174EA6;\n",
              "    }\n",
              "\n",
              "    [theme=dark] .colab-df-convert {\n",
              "      background-color: #3B4455;\n",
              "      fill: #D2E3FC;\n",
              "    }\n",
              "\n",
              "    [theme=dark] .colab-df-convert:hover {\n",
              "      background-color: #434B5C;\n",
              "      box-shadow: 0px 1px 3px 1px rgba(0, 0, 0, 0.15);\n",
              "      filter: drop-shadow(0px 1px 2px rgba(0, 0, 0, 0.3));\n",
              "      fill: #FFFFFF;\n",
              "    }\n",
              "  </style>\n",
              "\n",
              "      <script>\n",
              "        const buttonEl =\n",
              "          document.querySelector('#df-400a7bf7-304e-4184-8de8-abba2b69d20f button.colab-df-convert');\n",
              "        buttonEl.style.display =\n",
              "          google.colab.kernel.accessAllowed ? 'block' : 'none';\n",
              "\n",
              "        async function convertToInteractive(key) {\n",
              "          const element = document.querySelector('#df-400a7bf7-304e-4184-8de8-abba2b69d20f');\n",
              "          const dataTable =\n",
              "            await google.colab.kernel.invokeFunction('convertToInteractive',\n",
              "                                                     [key], {});\n",
              "          if (!dataTable) return;\n",
              "\n",
              "          const docLinkHtml = 'Like what you see? Visit the ' +\n",
              "            '<a target=\"_blank\" href=https://colab.research.google.com/notebooks/data_table.ipynb>data table notebook</a>'\n",
              "            + ' to learn more about interactive tables.';\n",
              "          element.innerHTML = '';\n",
              "          dataTable['output_type'] = 'display_data';\n",
              "          await google.colab.output.renderOutput(dataTable, element);\n",
              "          const docLink = document.createElement('div');\n",
              "          docLink.innerHTML = docLinkHtml;\n",
              "          element.appendChild(docLink);\n",
              "        }\n",
              "      </script>\n",
              "    </div>\n",
              "  </div>\n",
              "  "
            ]
          },
          "metadata": {},
          "execution_count": 2
        }
      ],
      "source": [
        "df = yf.download('BBCA.JK',start='2022-01-01',end='2023-05-16')\n",
        "df"
      ]
    },
    {
      "cell_type": "code",
      "source": [
        "plt.figure(figsize=(10,4))\n",
        "plt.title('close price history ')\n",
        "plt.plot(df['Close'])\n",
        "plt.xlabel('Date',fontsize=10)\n",
        "plt.ylabel('close price usd',fontsize=10)\n",
        "plt.show()"
      ],
      "metadata": {
        "id": "3m0IpZPcNKh_",
        "colab": {
          "base_uri": "https://localhost:8080/",
          "height": 434
        },
        "outputId": "cfcb4f51-5cfe-4202-818d-957b20597529"
      },
      "execution_count": null,
      "outputs": [
        {
          "output_type": "display_data",
          "data": {
            "text/plain": [
              "<Figure size 1000x400 with 1 Axes>"
            ],
            "image/png": "[encoded data removed]"
          },
          "metadata": {}
        }
      ]
    },
    {
      "cell_type": "code",
      "source": [
        "data = df.filter(['Close'])\n",
        "dataset = data.values\n",
        "traning_data_len = math.ceil(len(dataset) * .8)\n",
        "\n",
        "traning_data_len"
      ],
      "metadata": {
        "colab": {
          "base_uri": "https://localhost:8080/"
        },
        "id": "GXvq-ZsyVN2_",
        "outputId": "dc875ba4-a81f-4d5b-d8e5-fea2812d18fc"
      },
      "execution_count": null,
      "outputs": [
        {
          "output_type": "execute_result",
          "data": {
            "text/plain": [
              "266"
            ]
          },
          "metadata": {},
          "execution_count": 5
        }
      ]
    },
    {
      "cell_type": "code",
      "source": [
        "scalern = MinMaxScaler(feature_range=(0,1))\n",
        "scalern_data = scalern.fit_transform(dataset)\n",
        "scalern_data"
      ],
      "metadata": {
        "id": "t8eS-D0uU_rV",
        "colab": {
          "base_uri": "https://localhost:8080/"
        },
        "outputId": "cc264895-f9b1-4a58-97a1-418177d00fb7"
      },
      "execution_count": null,
      "outputs": [
        {
          "output_type": "execute_result",
          "data": {
            "text/plain": [
              "array([[0.14130435],\n",
              "       [0.17391304],\n",
              "       [0.19565217],\n",
              "       [0.20652174],\n",
              "       [0.2826087 ],\n",
              "       [0.26086957],\n",
              "       [0.30434783],\n",
              "       [0.30434783],\n",
              "       [0.30434783],\n",
              "       [0.36956522],\n",
              "       [0.32608696],\n",
              "       [0.29347826],\n",
              "       [0.29347826],\n",
              "       [0.33695652],\n",
              "       [0.41304348],\n",
              "       [0.34782609],\n",
              "       [0.33695652],\n",
              "       [0.30434783],\n",
              "       [0.34782609],\n",
              "       [0.33695652],\n",
              "       [0.27173913],\n",
              "       [0.34782609],\n",
              "       [0.31521739],\n",
              "       [0.31521739],\n",
              "       [0.34782609],\n",
              "       [0.31521739],\n",
              "       [0.41304348],\n",
              "       [0.32608696],\n",
              "       [0.35869565],\n",
              "       [0.30434783],\n",
              "       [0.38043478],\n",
              "       [0.42391304],\n",
              "       [0.39130435],\n",
              "       [0.40217391],\n",
              "       [0.41304348],\n",
              "       [0.39130435],\n",
              "       [0.45652174],\n",
              "       [0.43478261],\n",
              "       [0.45652174],\n",
              "       [0.45652174],\n",
              "       [0.42391304],\n",
              "       [0.39130435],\n",
              "       [0.30434783],\n",
              "       [0.2826087 ],\n",
              "       [0.36956522],\n",
              "       [0.40217391],\n",
              "       [0.41304348],\n",
              "       [0.4673913 ],\n",
              "       [0.5       ],\n",
              "       [0.52173913],\n",
              "       [0.43478261],\n",
              "       [0.39130435],\n",
              "       [0.39130435],\n",
              "       [0.40217391],\n",
              "       [0.39130435],\n",
              "       [0.40217391],\n",
              "       [0.41304348],\n",
              "       [0.39130435],\n",
              "       [0.36956522],\n",
              "       [0.38043478],\n",
              "       [0.42391304],\n",
              "       [0.40217391],\n",
              "       [0.39130435],\n",
              "       [0.39130435],\n",
              "       [0.32608696],\n",
              "       [0.32608696],\n",
              "       [0.36956522],\n",
              "       [0.31521739],\n",
              "       [0.34782609],\n",
              "       [0.34782609],\n",
              "       [0.30434783],\n",
              "       [0.30434783],\n",
              "       [0.27173913],\n",
              "       [0.2826087 ],\n",
              "       [0.40217391],\n",
              "       [0.38043478],\n",
              "       [0.43478261],\n",
              "       [0.48913043],\n",
              "       [0.52173913],\n",
              "       [0.48913043],\n",
              "       [0.26086957],\n",
              "       [0.22826087],\n",
              "       [0.2826087 ],\n",
              "       [0.11956522],\n",
              "       [0.14130435],\n",
              "       [0.17391304],\n",
              "       [0.25      ],\n",
              "       [0.19565217],\n",
              "       [0.17391304],\n",
              "       [0.16304348],\n",
              "       [0.15217391],\n",
              "       [0.16304348],\n",
              "       [0.25      ],\n",
              "       [0.25      ],\n",
              "       [0.32608696],\n",
              "       [0.25      ],\n",
              "       [0.26086957],\n",
              "       [0.19565217],\n",
              "       [0.16304348],\n",
              "       [0.26086957],\n",
              "       [0.2173913 ],\n",
              "       [0.15217391],\n",
              "       [0.15217391],\n",
              "       [0.17391304],\n",
              "       [0.14130435],\n",
              "       [0.25      ],\n",
              "       [0.2173913 ],\n",
              "       [0.27173913],\n",
              "       [0.2826087 ],\n",
              "       [0.2173913 ],\n",
              "       [0.22826087],\n",
              "       [0.20652174],\n",
              "       [0.15217391],\n",
              "       [0.13043478],\n",
              "       [0.11956522],\n",
              "       [0.10869565],\n",
              "       [0.10869565],\n",
              "       [0.02173913],\n",
              "       [0.10869565],\n",
              "       [0.13043478],\n",
              "       [0.04347826],\n",
              "       [0.06521739],\n",
              "       [0.05434783],\n",
              "       [0.07608696],\n",
              "       [0.        ],\n",
              "       [0.01086957],\n",
              "       [0.        ],\n",
              "       [0.06521739],\n",
              "       [0.07608696],\n",
              "       [0.17391304],\n",
              "       [0.17391304],\n",
              "       [0.14130435],\n",
              "       [0.13043478],\n",
              "       [0.13043478],\n",
              "       [0.14130435],\n",
              "       [0.15217391],\n",
              "       [0.15217391],\n",
              "       [0.2173913 ],\n",
              "       [0.26086957],\n",
              "       [0.27173913],\n",
              "       [0.34782609],\n",
              "       [0.38043478],\n",
              "       [0.38043478],\n",
              "       [0.39130435],\n",
              "       [0.39130435],\n",
              "       [0.41304348],\n",
              "       [0.40217391],\n",
              "       [0.41304348],\n",
              "       [0.42391304],\n",
              "       [0.43478261],\n",
              "       [0.39130435],\n",
              "       [0.43478261],\n",
              "       [0.39130435],\n",
              "       [0.41304348],\n",
              "       [0.4673913 ],\n",
              "       [0.43478261],\n",
              "       [0.5       ],\n",
              "       [0.51086957],\n",
              "       [0.52173913],\n",
              "       [0.5       ],\n",
              "       [0.5326087 ],\n",
              "       [0.55434783],\n",
              "       [0.55434783],\n",
              "       [0.59782609],\n",
              "       [0.58695652],\n",
              "       [0.59782609],\n",
              "       [0.59782609],\n",
              "       [0.66304348],\n",
              "       [0.65217391],\n",
              "       [0.76086957],\n",
              "       [0.63043478],\n",
              "       [0.7173913 ],\n",
              "       [0.67391304],\n",
              "       [0.64130435],\n",
              "       [0.64130435],\n",
              "       [0.59782609],\n",
              "       [0.61956522],\n",
              "       [0.56521739],\n",
              "       [0.57608696],\n",
              "       [0.59782609],\n",
              "       [0.67391304],\n",
              "       [0.65217391],\n",
              "       [0.67391304],\n",
              "       [0.63043478],\n",
              "       [0.61956522],\n",
              "       [0.52173913],\n",
              "       [0.56521739],\n",
              "       [0.54347826],\n",
              "       [0.57608696],\n",
              "       [0.55434783],\n",
              "       [0.54347826],\n",
              "       [0.54347826],\n",
              "       [0.56521739],\n",
              "       [0.55434783],\n",
              "       [0.65217391],\n",
              "       [0.7173913 ],\n",
              "       [0.82608696],\n",
              "       [0.73913043],\n",
              "       [0.67391304],\n",
              "       [0.73913043],\n",
              "       [0.76086957],\n",
              "       [0.7826087 ],\n",
              "       [0.7826087 ],\n",
              "       [0.76086957],\n",
              "       [0.7826087 ],\n",
              "       [0.77173913],\n",
              "       [0.80434783],\n",
              "       [0.76086957],\n",
              "       [0.81521739],\n",
              "       [0.7826087 ],\n",
              "       [0.80434783],\n",
              "       [0.76086957],\n",
              "       [0.7826087 ],\n",
              "       [0.69565217],\n",
              "       [0.75      ],\n",
              "       [0.79347826],\n",
              "       [0.75      ],\n",
              "       [0.82608696],\n",
              "       [0.81521739],\n",
              "       [0.86956522],\n",
              "       [0.85869565],\n",
              "       [0.88043478],\n",
              "       [0.85869565],\n",
              "       [1.        ],\n",
              "       [0.86956522],\n",
              "       [0.82608696],\n",
              "       [0.77173913],\n",
              "       [0.72826087],\n",
              "       [0.63043478],\n",
              "       [0.65217391],\n",
              "       [0.68478261],\n",
              "       [0.73913043],\n",
              "       [0.73913043],\n",
              "       [0.70652174],\n",
              "       [0.65217391],\n",
              "       [0.69565217],\n",
              "       [0.7173913 ],\n",
              "       [0.68478261],\n",
              "       [0.72826087],\n",
              "       [0.68478261],\n",
              "       [0.65217391],\n",
              "       [0.68478261],\n",
              "       [0.69565217],\n",
              "       [0.7173913 ],\n",
              "       [0.68478261],\n",
              "       [0.67391304],\n",
              "       [0.67391304],\n",
              "       [0.67391304],\n",
              "       [0.58695652],\n",
              "       [0.54347826],\n",
              "       [0.56521739],\n",
              "       [0.63043478],\n",
              "       [0.51086957],\n",
              "       [0.48913043],\n",
              "       [0.51086957],\n",
              "       [0.45652174],\n",
              "       [0.5       ],\n",
              "       [0.57608696],\n",
              "       [0.56521739],\n",
              "       [0.57608696],\n",
              "       [0.56521739],\n",
              "       [0.5326087 ],\n",
              "       [0.52173913],\n",
              "       [0.64130435],\n",
              "       [0.73913043],\n",
              "       [0.73913043],\n",
              "       [0.64130435],\n",
              "       [0.65217391],\n",
              "       [0.63043478],\n",
              "       [0.73913043],\n",
              "       [0.75      ],\n",
              "       [0.80434783],\n",
              "       [0.79347826],\n",
              "       [0.82608696],\n",
              "       [0.79347826],\n",
              "       [0.81521739],\n",
              "       [0.84782609],\n",
              "       [0.81521739],\n",
              "       [0.73913043],\n",
              "       [0.75      ],\n",
              "       [0.76086957],\n",
              "       [0.73913043],\n",
              "       [0.72826087],\n",
              "       [0.75      ],\n",
              "       [0.72826087],\n",
              "       [0.77173913],\n",
              "       [0.76086957],\n",
              "       [0.69565217],\n",
              "       [0.70652174],\n",
              "       [0.64130435],\n",
              "       [0.60869565],\n",
              "       [0.61956522],\n",
              "       [0.68478261],\n",
              "       [0.68478261],\n",
              "       [0.63043478],\n",
              "       [0.67391304],\n",
              "       [0.57608696],\n",
              "       [0.57608696],\n",
              "       [0.56521739],\n",
              "       [0.59782609],\n",
              "       [0.60869565],\n",
              "       [0.65217391],\n",
              "       [0.79347826],\n",
              "       [0.73913043],\n",
              "       [0.72826087],\n",
              "       [0.7826087 ],\n",
              "       [0.79347826],\n",
              "       [0.76086957],\n",
              "       [0.7826087 ],\n",
              "       [0.77173913],\n",
              "       [0.75      ],\n",
              "       [0.76086957],\n",
              "       [0.7826087 ],\n",
              "       [0.79347826],\n",
              "       [0.82608696],\n",
              "       [0.83695652],\n",
              "       [0.86956522],\n",
              "       [0.88043478],\n",
              "       [0.92391304],\n",
              "       [0.95652174],\n",
              "       [0.93478261],\n",
              "       [0.89130435],\n",
              "       [0.89130435],\n",
              "       [0.83695652],\n",
              "       [0.86956522],\n",
              "       [0.86956522],\n",
              "       [0.86956522],\n",
              "       [0.83695652],\n",
              "       [0.83695652],\n",
              "       [0.79347826],\n",
              "       [0.7826087 ],\n",
              "       [0.77173913]])"
            ]
          },
          "metadata": {},
          "execution_count": 6
        }
      ]
    },
    {
      "cell_type": "code",
      "source": [
        "train_data= scalern_data[0:traning_data_len , :]\n",
        "\n",
        "x_train = []\n",
        "y_train = []\n",
        "\n",
        "for i in range(60,len(train_data)):\n",
        "  x_train.append(train_data[i-60:i,0])\n",
        "  y_train.append(train_data[i,0])\n",
        "  if i <= 61:\n",
        "    print(x_train)\n",
        "    print(y_train)\n",
        "    print()"
      ],
      "metadata": {
        "id": "plnqiGRMXMej",
        "colab": {
          "base_uri": "https://localhost:8080/"
        },
        "outputId": "97f1a103-d16d-4852-e6d1-f59e67da8407"
      },
      "execution_count": null,
      "outputs": [
        {
          "output_type": "stream",
          "name": "stdout",
          "text": [
            "[array([0.14130435, 0.17391304, 0.19565217, 0.20652174, 0.2826087 ,\n",
            "       0.26086957, 0.30434783, 0.30434783, 0.30434783, 0.36956522,\n",
            "       0.32608696, 0.29347826, 0.29347826, 0.33695652, 0.41304348,\n",
            "       0.34782609, 0.33695652, 0.30434783, 0.34782609, 0.33695652,\n",
            "       0.27173913, 0.34782609, 0.31521739, 0.31521739, 0.34782609,\n",
            "       0.31521739, 0.41304348, 0.32608696, 0.35869565, 0.30434783,\n",
            "       0.38043478, 0.42391304, 0.39130435, 0.40217391, 0.41304348,\n",
            "       0.39130435, 0.45652174, 0.43478261, 0.45652174, 0.45652174,\n",
            "       0.42391304, 0.39130435, 0.30434783, 0.2826087 , 0.36956522,\n",
            "       0.40217391, 0.41304348, 0.4673913 , 0.5       , 0.52173913,\n",
            "       0.43478261, 0.39130435, 0.39130435, 0.40217391, 0.39130435,\n",
            "       0.40217391, 0.41304348, 0.39130435, 0.36956522, 0.38043478])]\n",
            "[0.42391304347826075]\n",
            "\n",
            "[array([0.14130435, 0.17391304, 0.19565217, 0.20652174, 0.2826087 ,\n",
            "       0.26086957, 0.30434783, 0.30434783, 0.30434783, 0.36956522,\n",
            "       0.32608696, 0.29347826, 0.29347826, 0.33695652, 0.41304348,\n",
            "       0.34782609, 0.33695652, 0.30434783, 0.34782609, 0.33695652,\n",
            "       0.27173913, 0.34782609, 0.31521739, 0.31521739, 0.34782609,\n",
            "       0.31521739, 0.41304348, 0.32608696, 0.35869565, 0.30434783,\n",
            "       0.38043478, 0.42391304, 0.39130435, 0.40217391, 0.41304348,\n",
            "       0.39130435, 0.45652174, 0.43478261, 0.45652174, 0.45652174,\n",
            "       0.42391304, 0.39130435, 0.30434783, 0.2826087 , 0.36956522,\n",
            "       0.40217391, 0.41304348, 0.4673913 , 0.5       , 0.52173913,\n",
            "       0.43478261, 0.39130435, 0.39130435, 0.40217391, 0.39130435,\n",
            "       0.40217391, 0.41304348, 0.39130435, 0.36956522, 0.38043478]), array([0.17391304, 0.19565217, 0.20652174, 0.2826087 , 0.26086957,\n",
            "       0.30434783, 0.30434783, 0.30434783, 0.36956522, 0.32608696,\n",
            "       0.29347826, 0.29347826, 0.33695652, 0.41304348, 0.34782609,\n",
            "       0.33695652, 0.30434783, 0.34782609, 0.33695652, 0.27173913,\n",
            "       0.34782609, 0.31521739, 0.31521739, 0.34782609, 0.31521739,\n",
            "       0.41304348, 0.32608696, 0.35869565, 0.30434783, 0.38043478,\n",
            "       0.42391304, 0.39130435, 0.40217391, 0.41304348, 0.39130435,\n",
            "       0.45652174, 0.43478261, 0.45652174, 0.45652174, 0.42391304,\n",
            "       0.39130435, 0.30434783, 0.2826087 , 0.36956522, 0.40217391,\n",
            "       0.41304348, 0.4673913 , 0.5       , 0.52173913, 0.43478261,\n",
            "       0.39130435, 0.39130435, 0.40217391, 0.39130435, 0.40217391,\n",
            "       0.41304348, 0.39130435, 0.36956522, 0.38043478, 0.42391304])]\n",
            "[0.42391304347826075, 0.40217391304347805]\n",
            "\n"
          ]
        }
      ]
    },
    {
      "cell_type": "code",
      "source": [
        "x_train,y_train=np.array(x_train),np.array(y_train)"
      ],
      "metadata": {
        "id": "_dTOAu3DaETj"
      },
      "execution_count": null,
      "outputs": []
    },
    {
      "cell_type": "code",
      "source": [
        "x_train =np.reshape(x_train,(x_train.shape[0],x_train.shape[1],1))\n",
        "x_train.shape"
      ],
      "metadata": {
        "colab": {
          "base_uri": "https://localhost:8080/"
        },
        "id": "GJvBO1bHaiFr",
        "outputId": "f434705c-c685-4cf7-a0b8-dc4c29c83f63"
      },
      "execution_count": null,
      "outputs": [
        {
          "output_type": "execute_result",
          "data": {
            "text/plain": [
              "(206, 60, 1)"
            ]
          },
          "metadata": {},
          "execution_count": 9
        }
      ]
    },
    {
      "cell_type": "code",
      "source": [
        "model = Sequential()\n",
        "model.add(LSTM(50,return_sequences=True,input_shape=(x_train.shape[1],1)))\n",
        "model.add(LSTM(50,return_sequences=False))\n",
        "model.add(Dense(25))\n",
        "model.add(Dense(1))\n"
      ],
      "metadata": {
        "id": "DzXkG81ib_98"
      },
      "execution_count": null,
      "outputs": []
    },
    {
      "cell_type": "code",
      "source": [
        "model.compile(optimizer='adam',loss='mean_squared_error')"
      ],
      "metadata": {
        "id": "Tanf4UZFdeIB"
      },
      "execution_count": null,
      "outputs": []
    },
    {
      "cell_type": "code",
      "source": [
        "model.fit(x_train,y_train,batch_size=1,epochs=1)"
      ],
      "metadata": {
        "colab": {
          "base_uri": "https://localhost:8080/"
        },
        "id": "CPiIciN9eQAB",
        "outputId": "7f6893c1-614b-49d1-82e3-9e5bf0142836"
      },
      "execution_count": null,
      "outputs": [
        {
          "output_type": "stream",
          "name": "stdout",
          "text": [
            "206/206 [==============================] - 10s 30ms/step - loss: 0.0122\n"
          ]
        },
        {
          "output_type": "execute_result",
          "data": {
            "text/plain": [
              "<keras.callbacks.History at 0x7f18e4258a30>"
            ]
          },
          "metadata": {},
          "execution_count": 12
        }
      ]
    },
    {
      "cell_type": "code",
      "source": [
        "test_data=scalern_data[traning_data_len - 60 : ,:]\n",
        "\n",
        "x_test = []\n",
        "y_test = dataset[traning_data_len:,:]\n",
        "for i in range(60,len(test_data)):\n",
        "  x_test.append(test_data[i-60:i,0])"
      ],
      "metadata": {
        "id": "80uI8WEmfWJS"
      },
      "execution_count": null,
      "outputs": []
    },
    {
      "cell_type": "code",
      "source": [
        "x_test = np.array(x_test)"
      ],
      "metadata": {
        "id": "bkf3xfaEmxcq"
      },
      "execution_count": null,
      "outputs": []
    },
    {
      "cell_type": "code",
      "source": [
        "x_test= np.reshape(x_test,(x_test.shape[0],x_test.shape[1],1))"
      ],
      "metadata": {
        "id": "HpkNfrteiCuV"
      },
      "execution_count": null,
      "outputs": []
    },
    {
      "cell_type": "code",
      "source": [
        "PredictioN = model.predict(x_test)\n",
        "PredictioN = scalern.inverse_transform(PredictioN)"
      ],
      "metadata": {
        "colab": {
          "base_uri": "https://localhost:8080/"
        },
        "id": "ZXVbKWztnvqK",
        "outputId": "1c0b144f-e8d5-41e3-9799-8cfad3e3222d"
      },
      "execution_count": null,
      "outputs": [
        {
          "output_type": "stream",
          "name": "stdout",
          "text": [
            "3/3 [==============================] - 1s 14ms/step\n"
          ]
        }
      ]
    },
    {
      "cell_type": "code",
      "source": [
        "rase = np.sqrt(np.mean(PredictioN-y_test)**2)\n",
        "rase"
      ],
      "metadata": {
        "colab": {
          "base_uri": "https://localhost:8080/"
        },
        "id": "a7qrz4NgyyMo",
        "outputId": "a18816dd-40f8-4aea-ed63-f2639177da6c"
      },
      "execution_count": null,
      "outputs": [
        {
          "output_type": "execute_result",
          "data": {
            "text/plain": [
              "194.36140210700756"
            ]
          },
          "metadata": {},
          "execution_count": 17
        }
      ]
    },
    {
      "cell_type": "code",
      "source": [
        "traiN = data[:traning_data_len]\n",
        "valid = data[traning_data_len:]\n",
        "valid['PredictioN'] = PredictioN\n",
        "plt.figure(figsize=(18,8))\n",
        "plt.title('Model')\n",
        "plt.xlabel('Date',fontsize=10)\n",
        "plt.ylabel('Close Price USD($)',fontsize=10)\n",
        "plt.plot(traiN['Close'])\n",
        "plt.plot(valid[['Close','PredictioN']])\n",
        "plt.legend(['Train' ,'Val', 'PredictioN'],loc='lower right')\n",
        "plt.show()"
      ],
      "metadata": {
        "colab": {
          "base_uri": "https://localhost:8080/",
          "height": 862
        },
        "id": "x1-5Krz51c3-",
        "outputId": "14fb30f5-f866-482b-bb25-84be5985cbd6"
      },
      "execution_count": null,
      "outputs": [
        {
          "output_type": "stream",
          "name": "stderr",
          "text": [
            "<ipython-input-30-a28b03bd5292>:3: SettingWithCopyWarning: \n",
            "A value is trying to be set on a copy of a slice from a DataFrame.\n",
            "Try using .loc[row_indexer,col_indexer] = value instead\n",
            "\n",
            "See the caveats in the documentation: https://pandas.pydata.org/pandas-docs/stable/user_guide/indexing.html#returning-a-view-versus-a-copy\n",
            "  valid['PredictioN'] = PredictioN\n"
          ]
        },
        {
          "output_type": "display_data",
          "data": {
            "text/plain": [
              "<Figure size 1800x800 with 1 Axes>"
            ],
            "image/png": "[encoded data removed]"
          },
          "metadata": {}
        }
      ]
    },
    {
      "cell_type": "code",
      "source": [
        "valid"
      ],
      "metadata": {
        "id": "TJDWiVlo6vqQ",
        "colab": {
          "base_uri": "https://localhost:8080/",
          "height": 455
        },
        "outputId": "386177a6-2c4e-4af3-e929-e1b047f3f9f5"
      },
      "execution_count": null,
      "outputs": [
        {
          "output_type": "execute_result",
          "data": {
            "text/plain": [
              "             Close   PredictioN\n",
              "Date                           \n",
              "2023-01-31  8475.0  8227.875977\n",
              "2023-02-01  8500.0  8263.780273\n",
              "2023-02-02  8450.0  8292.714844\n",
              "2023-02-03  8700.0  8312.066406\n",
              "2023-02-06  8725.0  8341.031250\n",
              "...            ...          ...\n",
              "2023-05-09  8925.0  8842.238281\n",
              "2023-05-10  8925.0  8833.392578\n",
              "2023-05-11  8825.0  8822.103516\n",
              "2023-05-12  8800.0  8803.386719\n",
              "2023-05-15  8775.0  8780.317383\n",
              "\n",
              "[66 rows x 2 columns]"
            ],
            "text/html": [
              "\n",
              "  <div id=\"df-0e36c164-e2f6-4521-82da-448283bd5c02\">\n",
              "    <div class=\"colab-df-container\">\n",
              "      <div>\n",
              "<style scoped>\n",
              "    .dataframe tbody tr th:only-of-type {\n",
              "        vertical-align: middle;\n",
              "    }\n",
              "\n",
              "    .dataframe tbody tr th {\n",
              "        vertical-align: top;\n",
              "    }\n",
              "\n",
              "    .dataframe thead th {\n",
              "        text-align: right;\n",
              "    }\n",
              "</style>\n",
              "<table border=\"1\" class=\"dataframe\">\n",
              "  <thead>\n",
              "    <tr style=\"text-align: right;\">\n",
              "      <th></th>\n",
              "      <th>Close</th>\n",
              "      <th>PredictioN</th>\n",
              "    </tr>\n",
              "    <tr>\n",
              "      <th>Date</th>\n",
              "      <th></th>\n",
              "      <th></th>\n",
              "    </tr>\n",
              "  </thead>\n",
              "  <tbody>\n",
              "    <tr>\n",
              "      <th>2023-01-31</th>\n",
              "      <td>8475.0</td>\n",
              "      <td>8227.875977</td>\n",
              "    </tr>\n",
              "    <tr>\n",
              "      <th>2023-02-01</th>\n",
              "      <td>8500.0</td>\n",
              "      <td>8263.780273</td>\n",
              "    </tr>\n",
              "    <tr>\n",
              "      <th>2023-02-02</th>\n",
              "      <td>8450.0</td>\n",
              "      <td>8292.714844</td>\n",
              "    </tr>\n",
              "    <tr>\n",
              "      <th>2023-02-03</th>\n",
              "      <td>8700.0</td>\n",
              "      <td>8312.066406</td>\n",
              "    </tr>\n",
              "    <tr>\n",
              "      <th>2023-02-06</th>\n",
              "      <td>8725.0</td>\n",
              "      <td>8341.031250</td>\n",
              "    </tr>\n",
              "    <tr>\n",
              "      <th>...</th>\n",
              "      <td>...</td>\n",
              "      <td>...</td>\n",
              "    </tr>\n",
              "    <tr>\n",
              "      <th>2023-05-09</th>\n",
              "      <td>8925.0</td>\n",
              "      <td>8842.238281</td>\n",
              "    </tr>\n",
              "    <tr>\n",
              "      <th>2023-05-10</th>\n",
              "      <td>8925.0</td>\n",
              "      <td>8833.392578</td>\n",
              "    </tr>\n",
              "    <tr>\n",
              "      <th>2023-05-11</th>\n",
              "      <td>8825.0</td>\n",
              "      <td>8822.103516</td>\n",
              "    </tr>\n",
              "    <tr>\n",
              "      <th>2023-05-12</th>\n",
              "      <td>8800.0</td>\n",
              "      <td>8803.386719</td>\n",
              "    </tr>\n",
              "    <tr>\n",
              "      <th>2023-05-15</th>\n",
              "      <td>8775.0</td>\n",
              "      <td>8780.317383</td>\n",
              "    </tr>\n",
              "  </tbody>\n",
              "</table>\n",
              "<p>66 rows × 2 columns</p>\n",
              "</div>\n",
              "      <button class=\"colab-df-convert\" onclick=\"convertToInteractive('df-0e36c164-e2f6-4521-82da-448283bd5c02')\"\n",
              "              title=\"Convert this dataframe to an interactive table.\"\n",
              "              style=\"display:none;\">\n",
              "        \n",
              "  <svg xmlns=\"http://www.w3.org/2000/svg\" height=\"24px\"viewBox=\"0 0 24 24\"\n",
              "       width=\"24px\">\n",
              "    <path d=\"M0 0h24v24H0V0z\" fill=\"none\"/>\n",
              "    <path d=\"M18.56 5.44l.94 2.06.94-2.06 2.06-.94-2.06-.94-.94-2.06-.94 2.06-2.06.94zm-11 1L8.5 8.5l.94-2.06 2.06-.94-2.06-.94L8.5 2.5l-.94 2.06-2.06.94zm10 10l.94 2.06.94-2.06 2.06-.94-2.06-.94-.94-2.06-.94 2.06-2.06.94z\"/><path d=\"M17.41 7.96l-1.37-1.37c-.4-.4-.92-.59-1.43-.59-.52 0-1.04.2-1.43.59L10.3 9.45l-7.72 7.72c-.78.78-.78 2.05 0 2.83L4 21.41c.39.39.9.59 1.41.59.51 0 1.02-.2 1.41-.59l7.78-7.78 2.81-2.81c.8-.78.8-2.07 0-2.86zM5.41 20L4 18.59l7.72-7.72 1.47 1.35L5.41 20z\"/>\n",
              "  </svg>\n",
              "      </button>\n",
              "      \n",
              "  <style>\n",
              "    .colab-df-container {\n",
              "      display:flex;\n",
              "      flex-wrap:wrap;\n",
              "      gap: 12px;\n",
              "    }\n",
              "\n",
              "    .colab-df-convert {\n",
              "      background-color: #E8F0FE;\n",
              "      border: none;\n",
              "      border-radius: 50%;\n",
              "      cursor: pointer;\n",
              "      display: none;\n",
              "      fill: #1967D2;\n",
              "      height: 32px;\n",
              "      padding: 0 0 0 0;\n",
              "      width: 32px;\n",
              "    }\n",
              "\n",
              "    .colab-df-convert:hover {\n",
              "      background-color: #E2EBFA;\n",
              "      box-shadow: 0px 1px 2px rgba(60, 64, 67, 0.3), 0px 1px 3px 1px rgba(60, 64, 67, 0.15);\n",
              "      fill: #174EA6;\n",
              "    }\n",
              "\n",
              "    [theme=dark] .colab-df-convert {\n",
              "      background-color: #3B4455;\n",
              "      fill: #D2E3FC;\n",
              "    }\n",
              "\n",
              "    [theme=dark] .colab-df-convert:hover {\n",
              "      background-color: #434B5C;\n",
              "      box-shadow: 0px 1px 3px 1px rgba(0, 0, 0, 0.15);\n",
              "      filter: drop-shadow(0px 1px 2px rgba(0, 0, 0, 0.3));\n",
              "      fill: #FFFFFF;\n",
              "    }\n",
              "  </style>\n",
              "\n",
              "      <script>\n",
              "        const buttonEl =\n",
              "          document.querySelector('#df-0e36c164-e2f6-4521-82da-448283bd5c02 button.colab-df-convert');\n",
              "        buttonEl.style.display =\n",
              "          google.colab.kernel.accessAllowed ? 'block' : 'none';\n",
              "\n",
              "        async function convertToInteractive(key) {\n",
              "          const element = document.querySelector('#df-0e36c164-e2f6-4521-82da-448283bd5c02');\n",
              "          const dataTable =\n",
              "            await google.colab.kernel.invokeFunction('convertToInteractive',\n",
              "                                                     [key], {});\n",
              "          if (!dataTable) return;\n",
              "\n",
              "          const docLinkHtml = 'Like what you see? Visit the ' +\n",
              "            '<a target=\"_blank\" href=https://colab.research.google.com/notebooks/data_table.ipynb>data table notebook</a>'\n",
              "            + ' to learn more about interactive tables.';\n",
              "          element.innerHTML = '';\n",
              "          dataTable['output_type'] = 'display_data';\n",
              "          await google.colab.output.renderOutput(dataTable, element);\n",
              "          const docLink = document.createElement('div');\n",
              "          docLink.innerHTML = docLinkHtml;\n",
              "          element.appendChild(docLink);\n",
              "        }\n",
              "      </script>\n",
              "    </div>\n",
              "  </div>\n",
              "  "
            ]
          },
          "metadata": {},
          "execution_count": 19
        }
      ]
    },
    {
      "cell_type": "code",
      "source": [
        "bbca_stock = yf.download('BBCA.JK',start='2022-06-01',end='2023-05-16')\n",
        "New_df = bbca_stock.filter(['Close'])\n",
        "last_60_day = New_df[-60:].values\n",
        "last_60_day_scaler = scalern.transform(last_60_day)\n",
        "\n",
        "X_test = []\n",
        "X_test.append(last_60_day_scaler)\n",
        "X_test = np.array(X_test)\n",
        "X_test = np.reshape(X_test,(X_test.shape[0],X_test.shape[1],1))\n",
        "Pred_Price = model.predict(X_test)\n",
        "Pred_Price=scalern.inverse_transform(Pred_Price)\n",
        "\n",
        "print(Pred_Price)"
      ],
      "metadata": {
        "colab": {
          "base_uri": "https://localhost:8080/"
        },
        "id": "w42VoE7P6vaC",
        "outputId": "e469739f-6b9c-46be-dcc0-8424c597b964"
      },
      "execution_count": null,
      "outputs": [
        {
          "output_type": "stream",
          "name": "stdout",
          "text": [
            "[*********************100%***********************]  1 of 1 completed\n",
            "1/1 [==============================] - 0s 24ms/step\n",
            "[[8754.624]]\n"
          ]
        }
      ]
    },
    {
      "cell_type": "code",
      "source": [
        "bbca_stock2 = yf.download('BBCA.JK',start='2022-06-01',end='2023-05-18')\n",
        "print([[bbca_stock2['Open']],[bbca_stock2['Close']]])\n",
        "#print(bbca_stock2['Close'])"
      ],
      "metadata": {
        "colab": {
          "base_uri": "https://localhost:8080/"
        },
        "id": "nwPVDSCcE5sJ",
        "outputId": "dc7ca9ee-e652-4396-f13a-dbbb449b14d9"
      },
      "execution_count": null,
      "outputs": [
        {
          "output_type": "stream",
          "name": "stdout",
          "text": [
            "\r[*********************100%***********************]  1 of 1 completed\n",
            "[[Date\n",
            "2022-06-02    7625.0\n",
            "2022-06-03    7600.0\n",
            "2022-06-06    7550.0\n",
            "2022-06-07    7300.0\n",
            "2022-06-08    7500.0\n",
            "               ...  \n",
            "2023-05-10    8925.0\n",
            "2023-05-11    8900.0\n",
            "2023-05-12    8750.0\n",
            "2023-05-15    8875.0\n",
            "2023-05-16       0.0\n",
            "Name: Open, Length: 238, dtype: float64], [Date\n",
            "2022-06-02    7575.0\n",
            "2022-06-03    7600.0\n",
            "2022-06-06    7450.0\n",
            "2022-06-07    7375.0\n",
            "2022-06-08    7600.0\n",
            "               ...  \n",
            "2023-05-10    8925.0\n",
            "2023-05-11    8825.0\n",
            "2023-05-12    8800.0\n",
            "2023-05-15    8775.0\n",
            "2023-05-16    8700.0\n",
            "Name: Close, Length: 238, dtype: float64]]\n"
          ]
        }
      ]
    }
  ],
  "metadata": {
    "colab": {
      "provenance": [],
      "authorship_tag": "ABX9TyPeWtTpcdZbcDrTXKTJX6Gk",
      "include_colab_link": true
    },
    "kernelspec": {
      "display_name": "Python 3",
      "name": "python3"
    },
    "language_info": {
      "name": "python"
    }
  },
  "nbformat": 4,
  "nbformat_minor": 0
}